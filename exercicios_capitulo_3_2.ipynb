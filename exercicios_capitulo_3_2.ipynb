{
 "cells": [
  {
   "cell_type": "markdown",
   "metadata": {},
   "source": [
    "### Capitulo 3.2 - Medidas de dispersão"
   ]
  },
  {
   "cell_type": "code",
   "execution_count": 3,
   "metadata": {},
   "outputs": [],
   "source": [
    "import pandas as pd\n",
    "import numpy as np\n",
    "import matplotlib.pyplot as plt\n",
    "import seaborn as sns"
   ]
  },
  {
   "cell_type": "markdown",
   "metadata": {},
   "source": [
    "1 - Número de erros de impressão de um livro\n",
    "\n",
    "    a - Qual o numero medio de erros por pagina?\n",
    "    b - o numero mediano?\n",
    "    c - qual o desvio padrao?\n",
    "    d - faça uma representação grafica para a distribuição\n",
    "    e se o livro tem 500 paginas, qual é o numero total de erros esperado no livro?"
   ]
  },
  {
   "cell_type": "code",
   "execution_count": 4,
   "metadata": {},
   "outputs": [
    {
     "data": {
      "text/html": [
       "<div>\n",
       "<style scoped>\n",
       "    .dataframe tbody tr th:only-of-type {\n",
       "        vertical-align: middle;\n",
       "    }\n",
       "\n",
       "    .dataframe tbody tr th {\n",
       "        vertical-align: top;\n",
       "    }\n",
       "\n",
       "    .dataframe thead th {\n",
       "        text-align: right;\n",
       "    }\n",
       "</style>\n",
       "<table border=\"1\" class=\"dataframe\">\n",
       "  <thead>\n",
       "    <tr style=\"text-align: right;\">\n",
       "      <th></th>\n",
       "      <th>erros</th>\n",
       "      <th>frequencia</th>\n",
       "    </tr>\n",
       "  </thead>\n",
       "  <tbody>\n",
       "    <tr>\n",
       "      <th>0</th>\n",
       "      <td>0</td>\n",
       "      <td>25</td>\n",
       "    </tr>\n",
       "    <tr>\n",
       "      <th>1</th>\n",
       "      <td>1</td>\n",
       "      <td>20</td>\n",
       "    </tr>\n",
       "    <tr>\n",
       "      <th>2</th>\n",
       "      <td>2</td>\n",
       "      <td>3</td>\n",
       "    </tr>\n",
       "    <tr>\n",
       "      <th>3</th>\n",
       "      <td>3</td>\n",
       "      <td>1</td>\n",
       "    </tr>\n",
       "    <tr>\n",
       "      <th>4</th>\n",
       "      <td>4</td>\n",
       "      <td>1</td>\n",
       "    </tr>\n",
       "  </tbody>\n",
       "</table>\n",
       "</div>"
      ],
      "text/plain": [
       "   erros  frequencia\n",
       "0      0          25\n",
       "1      1          20\n",
       "2      2           3\n",
       "3      3           1\n",
       "4      4           1"
      ]
     },
     "execution_count": 4,
     "metadata": {},
     "output_type": "execute_result"
    }
   ],
   "source": [
    "# criando a tabela do exercicio\n",
    "\n",
    "erros = [0,1,2,3,4]\n",
    "freq = [25,20,3,1,1]\n",
    "\n",
    "df_ex1 = pd.DataFrame({\n",
    "    'erros': erros,\n",
    "    'frequencia' : freq\n",
    "})\n",
    "\n",
    "df_ex1"
   ]
  },
  {
   "cell_type": "code",
   "execution_count": 5,
   "metadata": {},
   "outputs": [
    {
     "name": "stdout",
     "output_type": "stream",
     "text": [
      "0.66\n"
     ]
    }
   ],
   "source": [
    "# a - erro medio por pagina\n",
    "#s = ((0 * 25) + (1 * 20) + (2 * 3) + (3 * 1) + (4 * 1)) / sum(df_ex1['frequencia'])\n",
    "\n",
    "s = sum(df_ex1['erros'] * df_ex1['frequencia']) / sum(df_ex1['frequencia'])\n",
    "\n",
    "print(s)"
   ]
  },
  {
   "cell_type": "code",
   "execution_count": 6,
   "metadata": {},
   "outputs": [
    {
     "data": {
      "text/plain": [
       "0.5"
      ]
     },
     "execution_count": 6,
     "metadata": {},
     "output_type": "execute_result"
    }
   ],
   "source": [
    "# b - erro mediano por pagina\n",
    "# nos nao podemos usar a funcao median em dados agrupados\n",
    "\n",
    "# precisamos \"desagrupar\" os dados\n",
    "\n",
    "df_ex1_desagrupado = pd.DataFrame({\n",
    "    'erros' : df_ex1['erros'].repeat(df_ex1['frequencia'])\n",
    "})\n",
    "\n",
    "df_ex1_desagrupado['erros'].median()"
   ]
  },
  {
   "cell_type": "code",
   "execution_count": 7,
   "metadata": {},
   "outputs": [
    {
     "data": {
      "text/plain": [
       "0.847806292854731"
      ]
     },
     "execution_count": 7,
     "metadata": {},
     "output_type": "execute_result"
    }
   ],
   "source": [
    "# c - qual o desvio padrao?\n",
    "\n",
    "df_ex1_desagrupado['erros'].std()"
   ]
  },
  {
   "cell_type": "code",
   "execution_count": 8,
   "metadata": {},
   "outputs": [
    {
     "data": {
      "image/png": "[encoded data removed]",
      "text/plain": [
       "<Figure size 640x480 with 1 Axes>"
      ]
     },
     "metadata": {},
     "output_type": "display_data"
    }
   ],
   "source": [
    "# representacao grafica da distribuicao\n",
    "sns.histplot(df_ex1_desagrupado, x='erros', bins=4)\n",
    "plt.show()"
   ]
  },
  {
   "cell_type": "code",
   "execution_count": 9,
   "metadata": {},
   "outputs": [
    {
     "name": "stdout",
     "output_type": "stream",
     "text": [
      "330.0\n"
     ]
    }
   ],
   "source": [
    "# d - qual o valor esperado de erros?\n",
    "\n",
    "valor_esperado = s*500\n",
    "print(valor_esperado)"
   ]
  },
  {
   "cell_type": "markdown",
   "metadata": {},
   "source": [
    "### Exercicio 2\n",
    "\n",
    "Taxa de juros de 10 ações"
   ]
  },
  {
   "cell_type": "code",
   "execution_count": 10,
   "metadata": {},
   "outputs": [],
   "source": [
    "tx_juros = [2.59, 2.64, 2.60, 2.62, 2.57, 2.55, 2.61, 2.50, 2.63, 2.64]"
   ]
  },
  {
   "cell_type": "code",
   "execution_count": 11,
   "metadata": {},
   "outputs": [
    {
     "name": "stdout",
     "output_type": "stream",
     "text": [
      "média:  2.5949999999999998\n",
      "mediana:  2.605\n",
      "desvio padrao:  0.042249260348555265\n"
     ]
    }
   ],
   "source": [
    "# qual a media, mediana e desvio padrão?\n",
    "\n",
    "print('média: ', np.mean(tx_juros))\n",
    "print('mediana: ', np.median(tx_juros))\n",
    "print('desvio padrao: ', np.std(tx_juros))"
   ]
  },
  {
   "cell_type": "markdown",
   "metadata": {},
   "source": [
    "### Exercicio 3\n",
    "\n",
    "número de casas de uma amostra de 50 quarteirões - total são 270"
   ]
  },
  {
   "cell_type": "code",
   "execution_count": 12,
   "metadata": {},
   "outputs": [],
   "source": [
    "list_ex3 = [2, 2, 3, 10, 13, 14, 15 ,15 ,16, 16, 18, 18, 20, 21, 22, 22, 23, 24, 25, 25, 26, 27, 29, 29, 30, 32, 36, 42, 44, 45, 45, 46, 48, 52, 58, 59, 61, 61, 61, 65, 66, 66 ,68, 75, 78, 80, 89, 90, 92,97]"
   ]
  },
  {
   "cell_type": "code",
   "execution_count": 15,
   "metadata": {},
   "outputs": [
    {
     "data": {
      "text/plain": [
       "<Axes: ylabel='Count'>"
      ]
     },
     "execution_count": 15,
     "metadata": {},
     "output_type": "execute_result"
    },
    {
     "data": {
      "image/png": "[encoded data removed]",
      "text/plain": [
       "<Figure size 640x480 with 1 Axes>"
      ]
     },
     "metadata": {},
     "output_type": "display_data"
    }
   ],
   "source": [
    "# use cinco intervalos e construa um histograma\n",
    "\n",
    "sns.histplot(list_ex3, bins=5)"
   ]
  },
  {
   "cell_type": "code",
   "execution_count": 19,
   "metadata": {},
   "outputs": [
    {
     "name": "stdout",
     "output_type": "stream",
     "text": [
      "Medida de posição central - Mediana:  31.0\n",
      "Medida de dispersao - Desvio Padrão:  25.81\n"
     ]
    }
   ],
   "source": [
    "# determine uma medida de posição central e uma de dispersão\n",
    "\n",
    "print('Medida de posição central - Mediana: ', np.median(list_ex3))\n",
    "print('Medida de dispersao - Desvio Padrão: ', np.std(list_ex3).round(2))"
   ]
  },
  {
   "cell_type": "markdown",
   "metadata": {},
   "source": [
    "### Exercício 4"
   ]
  },
  {
   "cell_type": "markdown",
   "metadata": {},
   "source": [
    "    a) Situação prática em que a mediana é mais apropriada do que a média\n",
    "    b) Histograma que a média e a mediana coincidem - esboçar\n",
    "    c) Histogramas de variaveis X, Y e Z com a mesma média aritimética mas com as variáveis em ordem crescente\n"
   ]
  },
  {
   "cell_type": "markdown",
   "metadata": {},
   "source": []
  }
 ],
 "metadata": {
  "kernelspec": {
   "display_name": "base",
   "language": "python",
   "name": "python3"
  },
  "language_info": {
   "codemirror_mode": {
    "name": "ipython",
    "version": 3
   },
   "file_extension": ".py",
   "mimetype": "text/x-python",
   "name": "python",
   "nbconvert_exporter": "python",
   "pygments_lexer": "ipython3",
   "version": "3.11.5"
  }
 },
 "nbformat": 4,
 "nbformat_minor": 2
}
